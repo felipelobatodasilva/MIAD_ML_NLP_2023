{
 "cells": [
  {
   "cell_type": "markdown",
   "metadata": {},
   "source": [
    "![image info](https://raw.githubusercontent.com/albahnsen/MIAD_ML_and_NLP/main/images/banner_1.png)"
   ]
  },
  {
   "cell_type": "markdown",
   "metadata": {},
   "source": [
    "# Taller: Construcción e implementación de árboles de decisión y métodos de ensamblaje\n",
    "\n",
    "En este taller podrá poner en práctica los sus conocimientos sobre construcción e implementación de árboles de decisión y métodos de ensamblajes. El taller está constituido por 9 puntos, 5 relacionados con árboles de decisión (parte A) y 4 con métodos de ensamblaje (parte B)."
   ]
  },
  {
   "cell_type": "markdown",
   "metadata": {},
   "source": [
    "## Parte A - Árboles de decisión\n",
    "\n",
    "En esta parte del taller se usará el conjunto de datos de Capital Bikeshare de Kaggle, donde cada observación representa el alquiler de bicicletas durante una hora y día determinado. Para más detalles puede visitar los siguientes enlaces: [datos](https://archive.ics.uci.edu/ml/machine-learning-databases/00275/Bike-Sharing-Dataset.zip), [dicccionario de datos](https://archive.ics.uci.edu/ml/datasets/Bike+Sharing+Dataset#)."
   ]
  },
  {
   "cell_type": "markdown",
   "metadata": {},
   "source": [
    "### Datos prestamo de bicicletas"
   ]
  },
  {
   "cell_type": "code",
   "execution_count": 1,
   "metadata": {},
   "outputs": [],
   "source": [
    "import warnings\n",
    "warnings.filterwarnings('ignore')"
   ]
  },
  {
   "cell_type": "code",
   "execution_count": 2,
   "metadata": {},
   "outputs": [],
   "source": [
    "# Importación de librerías\n",
    "%matplotlib inline\n",
    "import pandas as pd\n",
    "import numpy as np\n",
    "from sklearn.model_selection import cross_val_score\n",
    "from sklearn.linear_model import LinearRegression\n",
    "from sklearn.tree import DecisionTreeRegressor, export_graphviz"
   ]
  },
  {
   "cell_type": "code",
   "execution_count": 3,
   "metadata": {},
   "outputs": [
    {
     "data": {
      "text/html": [
       "<div>\n",
       "<style scoped>\n",
       "    .dataframe tbody tr th:only-of-type {\n",
       "        vertical-align: middle;\n",
       "    }\n",
       "\n",
       "    .dataframe tbody tr th {\n",
       "        vertical-align: top;\n",
       "    }\n",
       "\n",
       "    .dataframe thead th {\n",
       "        text-align: right;\n",
       "    }\n",
       "</style>\n",
       "<table border=\"1\" class=\"dataframe\">\n",
       "  <thead>\n",
       "    <tr style=\"text-align: right;\">\n",
       "      <th></th>\n",
       "      <th>season</th>\n",
       "      <th>holiday</th>\n",
       "      <th>workingday</th>\n",
       "      <th>weather</th>\n",
       "      <th>temp</th>\n",
       "      <th>atemp</th>\n",
       "      <th>humidity</th>\n",
       "      <th>windspeed</th>\n",
       "      <th>casual</th>\n",
       "      <th>registered</th>\n",
       "      <th>total</th>\n",
       "      <th>hour</th>\n",
       "    </tr>\n",
       "    <tr>\n",
       "      <th>datetime</th>\n",
       "      <th></th>\n",
       "      <th></th>\n",
       "      <th></th>\n",
       "      <th></th>\n",
       "      <th></th>\n",
       "      <th></th>\n",
       "      <th></th>\n",
       "      <th></th>\n",
       "      <th></th>\n",
       "      <th></th>\n",
       "      <th></th>\n",
       "      <th></th>\n",
       "    </tr>\n",
       "  </thead>\n",
       "  <tbody>\n",
       "    <tr>\n",
       "      <th>2011-01-01 00:00:00</th>\n",
       "      <td>1</td>\n",
       "      <td>0</td>\n",
       "      <td>0</td>\n",
       "      <td>1</td>\n",
       "      <td>9.84</td>\n",
       "      <td>14.395</td>\n",
       "      <td>81</td>\n",
       "      <td>0.0</td>\n",
       "      <td>3</td>\n",
       "      <td>13</td>\n",
       "      <td>16</td>\n",
       "      <td>0</td>\n",
       "    </tr>\n",
       "    <tr>\n",
       "      <th>2011-01-01 01:00:00</th>\n",
       "      <td>1</td>\n",
       "      <td>0</td>\n",
       "      <td>0</td>\n",
       "      <td>1</td>\n",
       "      <td>9.02</td>\n",
       "      <td>13.635</td>\n",
       "      <td>80</td>\n",
       "      <td>0.0</td>\n",
       "      <td>8</td>\n",
       "      <td>32</td>\n",
       "      <td>40</td>\n",
       "      <td>1</td>\n",
       "    </tr>\n",
       "    <tr>\n",
       "      <th>2011-01-01 02:00:00</th>\n",
       "      <td>1</td>\n",
       "      <td>0</td>\n",
       "      <td>0</td>\n",
       "      <td>1</td>\n",
       "      <td>9.02</td>\n",
       "      <td>13.635</td>\n",
       "      <td>80</td>\n",
       "      <td>0.0</td>\n",
       "      <td>5</td>\n",
       "      <td>27</td>\n",
       "      <td>32</td>\n",
       "      <td>2</td>\n",
       "    </tr>\n",
       "    <tr>\n",
       "      <th>2011-01-01 03:00:00</th>\n",
       "      <td>1</td>\n",
       "      <td>0</td>\n",
       "      <td>0</td>\n",
       "      <td>1</td>\n",
       "      <td>9.84</td>\n",
       "      <td>14.395</td>\n",
       "      <td>75</td>\n",
       "      <td>0.0</td>\n",
       "      <td>3</td>\n",
       "      <td>10</td>\n",
       "      <td>13</td>\n",
       "      <td>3</td>\n",
       "    </tr>\n",
       "    <tr>\n",
       "      <th>2011-01-01 04:00:00</th>\n",
       "      <td>1</td>\n",
       "      <td>0</td>\n",
       "      <td>0</td>\n",
       "      <td>1</td>\n",
       "      <td>9.84</td>\n",
       "      <td>14.395</td>\n",
       "      <td>75</td>\n",
       "      <td>0.0</td>\n",
       "      <td>0</td>\n",
       "      <td>1</td>\n",
       "      <td>1</td>\n",
       "      <td>4</td>\n",
       "    </tr>\n",
       "  </tbody>\n",
       "</table>\n",
       "</div>"
      ],
      "text/plain": [
       "                     season  holiday  workingday  weather  temp   atemp  \\\n",
       "datetime                                                                  \n",
       "2011-01-01 00:00:00       1        0           0        1  9.84  14.395   \n",
       "2011-01-01 01:00:00       1        0           0        1  9.02  13.635   \n",
       "2011-01-01 02:00:00       1        0           0        1  9.02  13.635   \n",
       "2011-01-01 03:00:00       1        0           0        1  9.84  14.395   \n",
       "2011-01-01 04:00:00       1        0           0        1  9.84  14.395   \n",
       "\n",
       "                     humidity  windspeed  casual  registered  total  hour  \n",
       "datetime                                                                   \n",
       "2011-01-01 00:00:00        81        0.0       3          13     16     0  \n",
       "2011-01-01 01:00:00        80        0.0       8          32     40     1  \n",
       "2011-01-01 02:00:00        80        0.0       5          27     32     2  \n",
       "2011-01-01 03:00:00        75        0.0       3          10     13     3  \n",
       "2011-01-01 04:00:00        75        0.0       0           1      1     4  "
      ]
     },
     "execution_count": 3,
     "metadata": {},
     "output_type": "execute_result"
    }
   ],
   "source": [
    "# Lectura de la información de archivo .csv\n",
    "bikes = pd.read_csv('https://raw.githubusercontent.com/davidzarruk/MIAD_ML_NLP_2023/main/datasets/bikeshare.csv', index_col='datetime', parse_dates=True)\n",
    "\n",
    "# Renombrar variable \"count\" a \"total\"\n",
    "bikes.rename(columns={'count':'total'}, inplace=True)\n",
    "\n",
    "# Crear la hora como una variable \n",
    "bikes['hour'] = bikes.index.hour\n",
    "\n",
    "# Visualización de los datos\n",
    "bikes.head()"
   ]
  },
  {
   "cell_type": "markdown",
   "metadata": {},
   "source": [
    "### Punto 1 - Análisis descriptivo\n",
    "\n",
    "Ejecute las celdas 1.1 y 1.2. A partir de los resultados realice un análisis descriptivo sobre las variables \"season\" y \"hour\", escriba sus inferencias sobre los datos. Para complementar su análisis puede usar métricas como máximo, mínimo, percentiles entre otros."
   ]
  },
  {
   "cell_type": "code",
   "execution_count": 4,
   "metadata": {},
   "outputs": [
    {
     "data": {
      "text/plain": [
       "season\n",
       "1    116.343261\n",
       "2    215.251372\n",
       "3    234.417124\n",
       "4    198.988296\n",
       "Name: total, dtype: float64"
      ]
     },
     "execution_count": 4,
     "metadata": {},
     "output_type": "execute_result"
    }
   ],
   "source": [
    "# Celda 1.1\n",
    "bikes.groupby('season').total.mean()"
   ]
  },
  {
   "cell_type": "code",
   "execution_count": 7,
   "metadata": {},
   "outputs": [
    {
     "name": "stdout",
     "output_type": "stream",
     "text": [
      "Estatísticas Descritivas para 'season':\n",
      "              mean  max  min  median         std           var\n",
      "season                                                        \n",
      "1       116.343261  801    1    78.0  125.273974  15693.568534\n",
      "2       215.251372  873    1   172.0  192.007843  36867.011826\n",
      "3       234.417124  977    1   195.0  197.151001  38868.517013\n",
      "4       198.988296  948    1   161.0  177.622409  31549.720317\n",
      "\n",
      "Percentis para 'season':\n",
      "        0.25   0.50   0.75   0.95\n",
      "season                           \n",
      "1       24.0   78.0  164.0  380.5\n",
      "2       49.0  172.0  321.0  613.4\n",
      "3       68.0  195.0  347.0  627.0\n",
      "4       51.0  161.0  294.0  556.4\n"
     ]
    }
   ],
   "source": [
    "# Análise descritiva completa para 'season'\n",
    "season_stats = bikes.groupby('season')['total'].agg(['mean', 'max', 'min', 'median', 'std', 'var'])\n",
    "season_percentiles = bikes.groupby('season')['total'].quantile([0.25, 0.5, 0.75, 0.95]).unstack()\n",
    "print(\"Estatísticas Descritivas para 'season':\")\n",
    "print(season_stats)\n",
    "print(\"\\nPercentis para 'season':\")\n",
    "print(season_percentiles)"
   ]
  },
  {
   "cell_type": "code",
   "execution_count": 5,
   "metadata": {
    "scrolled": true
   },
   "outputs": [
    {
     "data": {
      "text/plain": [
       "hour\n",
       "0      55.138462\n",
       "1      33.859031\n",
       "2      22.899554\n",
       "3      11.757506\n",
       "4       6.407240\n",
       "5      19.767699\n",
       "6      76.259341\n",
       "7     213.116484\n",
       "8     362.769231\n",
       "9     221.780220\n",
       "10    175.092308\n",
       "11    210.674725\n",
       "12    256.508772\n",
       "13    257.787281\n",
       "14    243.442982\n",
       "15    254.298246\n",
       "16    316.372807\n",
       "17    468.765351\n",
       "18    430.859649\n",
       "19    315.278509\n",
       "20    228.517544\n",
       "21    173.370614\n",
       "22    133.576754\n",
       "23     89.508772\n",
       "Name: total, dtype: float64"
      ]
     },
     "execution_count": 5,
     "metadata": {},
     "output_type": "execute_result"
    }
   ],
   "source": [
    "# Celda 1.2\n",
    "bikes.groupby('hour').total.mean()"
   ]
  },
  {
   "cell_type": "code",
   "execution_count": 8,
   "metadata": {},
   "outputs": [
    {
     "name": "stdout",
     "output_type": "stream",
     "text": [
      "\n",
      "Estatísticas Descritivas para 'hour':\n",
      "            mean  max  min  median         std           var\n",
      "hour                                                        \n",
      "0      55.138462  283    2    41.0   43.620012   1902.705456\n",
      "1      33.859031  168    1    19.0   34.112105   1163.635713\n",
      "2      22.899554  119    1    11.0   26.110267    681.746040\n",
      "3      11.757506   66    1     6.0   12.666442    160.438746\n",
      "4       6.407240   28    1     6.0    4.217633     17.788428\n",
      "5      19.767699   57    1    19.0   12.784293    163.438156\n",
      "6      76.259341  213    1    75.0   54.745333   2997.051537\n",
      "7     213.116484  596    1   208.0  159.207044  25346.882877\n",
      "8     362.769231  839    8   392.0  231.723065  53695.578787\n",
      "9     221.780220  414   14   217.0   92.099209   8482.264366\n",
      "10    175.092308  539   17   149.0  101.807629  10364.793223\n",
      "11    210.674725  647   10   183.0  127.444294  16242.048148\n",
      "12    256.508772  757    3   234.5  143.881880  20701.995527\n",
      "13    257.787281  729   11   226.5  149.167185  22250.849157\n",
      "14    243.442982  730   12   212.0  147.563199  21774.897841\n",
      "15    254.298246  724    7   232.0  144.235670  20803.928436\n",
      "16    316.372807  783   11   309.5  145.664786  21218.229940\n",
      "17    468.765351  970   15   480.5  223.775485  50075.467896\n",
      "18    430.859649  977   23   422.5  219.908138  48359.589050\n",
      "19    315.278509  743   11   312.5  156.641732  24536.632152\n",
      "20    228.517544  551   11   224.0  116.411565  13551.652439\n",
      "21    173.370614  584    6   171.5   87.629319   7678.897508\n",
      "22    133.576754  502    9   129.0   69.844495   4878.253436\n",
      "23     89.508772  256    4    80.0   51.638004   2666.483439\n",
      "\n",
      "Percentis para 'hour':\n",
      "        0.25   0.50    0.75    0.95\n",
      "hour                               \n",
      "0      24.00   41.0   74.50  148.00\n",
      "1      11.00   19.0   46.00  112.35\n",
      "2       5.00   11.0   32.00   78.65\n",
      "3       3.00    6.0   15.00   41.00\n",
      "4       3.00    6.0    9.00   14.00\n",
      "5       8.00   19.0   29.00   41.00\n",
      "6      24.50   75.0  118.00  172.00\n",
      "7      63.00  208.0  334.00  495.60\n",
      "8     133.50  392.0  563.50  724.30\n",
      "9     161.00  217.0  294.50  363.90\n",
      "10    106.00  149.0  218.50  404.30\n",
      "11    123.00  183.0  265.50  492.60\n",
      "12    157.00  234.5  332.00  546.25\n",
      "13    154.00  226.5  329.00  573.00\n",
      "14    144.00  212.0  311.25  564.00\n",
      "15    154.00  232.0  331.00  557.75\n",
      "16    211.75  309.5  421.00  564.25\n",
      "17    277.00  480.5  608.50  857.25\n",
      "18    240.75  422.5  564.00  823.50\n",
      "19    190.00  312.5  416.00  595.25\n",
      "20    136.75  224.0  302.00  437.25\n",
      "21    103.50  171.5  230.00  319.25\n",
      "22     80.00  129.0  175.00  251.75\n",
      "23     52.75   80.0  123.00  185.25\n"
     ]
    }
   ],
   "source": [
    "# Análise descritiva completa para 'hour'\n",
    "hour_stats = bikes.groupby('hour')['total'].agg(['mean', 'max', 'min', 'median', 'std', 'var'])\n",
    "hour_percentiles = bikes.groupby('hour')['total'].quantile([0.25, 0.5, 0.75, 0.95]).unstack()\n",
    "print(\"\\nEstatísticas Descritivas para 'hour':\")\n",
    "print(hour_stats)\n",
    "print(\"\\nPercentis para 'hour':\")\n",
    "print(hour_percentiles)"
   ]
  },
  {
   "cell_type": "markdown",
   "metadata": {},
   "source": [
    "### Punto 2 - Análisis de gráficos\n",
    "\n",
    "Primero ejecute la celda 2.1 y asegúrese de comprender el código y el resultado. Luego, en cada una de celdas 2.2 y 2.3 escriba un código que genere una gráfica del número de bicicletas rentadas promedio para cada valor de la variable \"hour\" (hora) cuando la variable \"season\" es igual a 1 (invierno) e igual a 3 (verano), respectivamente. Analice y escriba sus hallazgos."
   ]
  },
  {
   "cell_type": "code",
   "execution_count": 6,
   "metadata": {},
   "outputs": [
    {
     "data": {
      "text/plain": [
       "<Axes: xlabel='hour'>"
      ]
     },
     "execution_count": 6,
     "metadata": {},
     "output_type": "execute_result"
    },
    {
     "data": {
      "image/png": "[encoded data removed]",
      "text/plain": [
       "<Figure size 640x480 with 1 Axes>"
      ]
     },
     "metadata": {},
     "output_type": "display_data"
    }
   ],
   "source": [
    "# Celda 2.1 - rentas promedio para cada valor de la variable \"hour\"\n",
    "bikes.groupby('hour').total.mean().plot()"
   ]
  },
  {
   "cell_type": "code",
   "execution_count": 11,
   "metadata": {},
   "outputs": [
    {
     "data": {
      "image/png": "[encoded data removed]",
      "text/plain": [
       "<Figure size 640x480 with 1 Axes>"
      ]
     },
     "metadata": {},
     "output_type": "display_data"
    }
   ],
   "source": [
    "# Celda 2.2 - \"season\"=1 escriba su código y hallazgos \n",
    "import matplotlib.pyplot as plt\n",
    "\n",
    "# Gráfico para a estação de inverno (season=1)\n",
    "bikes_inverno = bikes[bikes['season'] == 1]\n",
    "bikes_inverno.groupby('hour')['total'].mean().plot()\n",
    "plt.title('Média de Aluguéis de Bicicletas por Hora - Inverno (Season 1)')\n",
    "plt.xlabel('Hora do dia')\n",
    "plt.ylabel('Média de Aluguéis')\n",
    "plt.show()"
   ]
  },
  {
   "cell_type": "code",
   "execution_count": 13,
   "metadata": {},
   "outputs": [
    {
     "data": {
      "image/png": "[encoded data removed]",
      "text/plain": [
       "<Figure size 640x480 with 1 Axes>"
      ]
     },
     "metadata": {},
     "output_type": "display_data"
    }
   ],
   "source": [
    "# Celda 2.3 - \"season\"=3 escriba su código y hallazgos \n",
    "# Gráfico para la temporada de verano (season=3)\n",
    "bikes[bikes['season'] == 3].groupby('hour')['total'].mean().plot()\n",
    "plt.title('Promedio de Bicicletas Alquiladas por Hora - Verano (Season 3)')\n",
    "plt.xlabel('Hora del día')\n",
    "plt.ylabel('Promedio de Alquileres')\n",
    "plt.show()"
   ]
  },
  {
   "cell_type": "markdown",
   "metadata": {},
   "source": [
    "### Punto 3 - Regresión lineal\n",
    "En la celda 3 ajuste un modelo de regresión lineal a todo el conjunto de datos, utilizando \"total\" como variable de respuesta y \"season\" y \"hour\" como las únicas variables predictoras, teniendo en cuenta que la variable \"season\" es categórica. Luego, imprima los coeficientes e interprételos. ¿Cuáles son las limitaciones de la regresión lineal en este caso?"
   ]
  },
  {
   "cell_type": "code",
   "execution_count": 22,
   "metadata": {},
   "outputs": [
    {
     "name": "stdout",
     "output_type": "stream",
     "text": [
      "Coeficientes: [ 10.56961908  99.10667072 116.04634     84.944802  ]\n",
      "Intercepto: -5.919547341961589\n",
      "RMSE Linear: 159.40489484006002\n"
     ]
    }
   ],
   "source": [
    "# Celda 3\n",
    "import pandas as pd\n",
    "from sklearn.linear_model import LinearRegression\n",
    "from sklearn.metrics import mean_squared_error\n",
    "from sklearn.model_selection import train_test_split\n",
    "import numpy as np\n",
    "\n",
    "# Supondo que 'bikes' é o seu DataFrame e já está carregado.\n",
    "# Primeiro, precisamos converter 'season' em variáveis dummy.\n",
    "bikes_dummy = pd.get_dummies(bikes, columns=['season'], drop_first=True)\n",
    "\n",
    "# 'hour' já é numérica, então podemos usá-la como está.\n",
    "# Agora, vamos preparar os dados para a regressão.\n",
    "X = bikes_dummy[['hour', 'season_2', 'season_3', 'season_4']]\n",
    "y = bikes_dummy['total']\n",
    "\n",
    "# Dividir os dados em conjuntos de treino e teste\n",
    "X_train, X_test, y_train, y_test = train_test_split(X, y, test_size=0.2, random_state=42)\n",
    "\n",
    "# Ajustar o modelo de regressão linear\n",
    "model = LinearRegression()\n",
    "model.fit(X_train, y_train)\n",
    "\n",
    "# Previsões\n",
    "y_pred = model.predict(X_test)\n",
    "\n",
    "# Avaliação do modelo\n",
    "mse = mean_squared_error(y_test, y_pred)\n",
    "rmse_linear = np.sqrt(mse)  # Alterado de 'rmse' para 'rmse_linear'\n",
    "\n",
    "# Coeficientes\n",
    "print('Coeficientes:', model.coef_)\n",
    "print('Intercepto:', model.intercept_)\n",
    "print('RMSE Linear:', rmse_linear)  # Alterado para 'RMSE Linear'"
   ]
  },
  {
   "cell_type": "markdown",
   "metadata": {},
   "source": [
    "El modelo de regresión lineal aplicado en el Punto 3 asume una relación directamente proporcional entre las horas del día y la temporada con el número total de alquileres de bicicletas. Sin embargo, esta relación puede ser más compleja. Las principales limitaciones del modelo son:\n",
    "\n",
    "**Linearidad:** La regresión lineal supone que hay una relación lineal entre las variables predictoras y la variable de respuesta. Sin embargo, en la vida real, estos factores pueden interactuar de manera más compleja que no se captura bien en un modelo lineal.\n",
    "\n",
    "**Homocedasticidad:** La regresión lineal requiere que los residuos tengan una varianza constante en todas las predicciones. Si esta condición no se cumple (heterocedasticidad), puede llevar a estimaciones de coeficientes ineficientes e intervalos de confianza incorrectos.\n",
    "\n",
    "**Independencia:** El modelo presume que las observaciones son independientes entre sí. En datos de series temporales, como en el caso de alquileres de bicicletas, puede haber autocorrelación, especialmente con respecto al tiempo y la fecha, lo que viola esta suposición.\n",
    "\n",
    "**Variables omitidas:** Es posible que factores importantes que influyen en el alquiler de bicicletas, como las condiciones meteorológicas o eventos locales, no se hayan incluido en el modelo, lo que podría causar sesgo en las predicciones.\n",
    "\n",
    "**Efectos categóricos simplificados:** Al convertir la variable 'season' en variables dummy, se pierde información sobre el posible ordenamiento o efecto cíclico de las estaciones."
   ]
  },
  {
   "cell_type": "markdown",
   "metadata": {},
   "source": [
    "### Punto 4 - Árbol de decisión manual\n",
    "En la celda 4 cree un árbol de decisiones para pronosticar la variable \"total\" iterando **manualmente** sobre las variables \"hour\" y  \"season\". El árbol debe tener al menos 6 nodos finales."
   ]
  },
  {
   "cell_type": "code",
   "execution_count": 17,
   "metadata": {},
   "outputs": [
    {
     "name": "stdout",
     "output_type": "stream",
     "text": [
      "Muy Bajo\n",
      "Moderado\n",
      "Alto\n",
      "Moderado\n"
     ]
    }
   ],
   "source": [
    "def arbol_de_decision_manual(hour, season):\n",
    "    # As categorias de 'total' são determinadas pelas condições a seguir:\n",
    "    if hour < 6:\n",
    "        total = 'Muy Bajo'  # Supomos que há muito poucos aluguéis neste horário\n",
    "    elif hour < 12:\n",
    "        if season == 1:\n",
    "            total = 'Bajo'  # Menos aluguéis no inverno pela manhã\n",
    "        else:\n",
    "            total = 'Moderado'  # Aluguéis moderados em outras estações\n",
    "    elif hour < 18:\n",
    "        if season in [2, 3]:  # Primavera e Verão\n",
    "            total = 'Alto'  # Mais aluguéis durante a tarde nestas estações\n",
    "        else:\n",
    "            total = 'Moderado'  # Moderado durante a tarde no Outono e Inverno\n",
    "    else:\n",
    "        if season == 3:\n",
    "            total = 'Muy Alto'  # Muitos aluguéis à noite no Verão\n",
    "        else:\n",
    "            total = 'Moderado'  # Moderado à noite nas outras estações\n",
    "    \n",
    "    # A variável 'total' é o resultado da nossa árvore de decisão\n",
    "    return total\n",
    "\n",
    "# Testando a função com alguns exemplos\n",
    "print(arbol_de_decision_manual(5, 1))  # Exemplo para as 5 AM no inverno\n",
    "print(arbol_de_decision_manual(11, 3)) # Exemplo para as 11 AM no verão\n",
    "print(arbol_de_decision_manual(17, 2)) # Exemplo para as 5 PM na primavera\n",
    "print(arbol_de_decision_manual(20, 4)) # Exemplo para as 8 PM no outono"
   ]
  },
  {
   "cell_type": "markdown",
   "metadata": {},
   "source": [
    "### Punto 5 - Árbol de decisión con librería\n",
    "En la celda 5 entrene un árbol de decisiones con la **librería sklearn**, usando las variables predictoras \"season\" y \"hour\" y calibre los parámetros que considere conveniente para obtener un mejor desempeño. Recuerde dividir los datos en conjuntos de entrenamiento y validación para esto. Comente el desempeño del modelo con alguna métrica de desempeño de modelos de regresión y compare desempeño con el modelo del punto 3."
   ]
  },
  {
   "cell_type": "code",
   "execution_count": 25,
   "metadata": {},
   "outputs": [
    {
     "name": "stdout",
     "output_type": "stream",
     "text": [
      "Mejores parámetros: {'max_depth': 9, 'min_samples_split': 2}\n",
      "RMSE del modelo optimizado de árbol de decisión: 115.99686234266166\n",
      "RMSE del modelo de regresión lineal: 159.40489484006002\n",
      "El modelo de árbol de decisión tiene un mejor desempeño con un RMSE más bajo.\n"
     ]
    }
   ],
   "source": [
    "from sklearn.tree import DecisionTreeRegressor\n",
    "from sklearn.model_selection import train_test_split, GridSearchCV\n",
    "from sklearn.metrics import mean_squared_error\n",
    "import pandas as pd\n",
    "import numpy as np\n",
    "\n",
    "# Asegúrese de que el DataFrame 'bikes' esté cargado y que las variables 'season' ya estén convertidas en dummies\n",
    "bikes_dummy = pd.get_dummies(bikes, columns=['season'], drop_first=True)\n",
    "\n",
    "# Preparar las variables predictoras y la variable respuesta\n",
    "X = bikes_dummy[['hour', 'season_2', 'season_3', 'season_4']]\n",
    "y = bikes_dummy['total']\n",
    "\n",
    "# Dividir los datos en conjuntos de entrenamiento y prueba\n",
    "X_train, X_test, y_train, y_test = train_test_split(X, y, test_size=0.2, random_state=42)\n",
    "\n",
    "# Calibrar los parámetros del modelo de árbol de decisión usando GridSearchCV\n",
    "parametros = {'max_depth': range(1, 10), 'min_samples_split': range(2, 10)}\n",
    "grid = GridSearchCV(DecisionTreeRegressor(random_state=42), parametros, cv=5, scoring='neg_mean_squared_error')\n",
    "grid.fit(X_train, y_train)\n",
    "\n",
    "# Mejores parámetros encontrados\n",
    "print(\"Mejores parámetros:\", grid.best_params_)\n",
    "\n",
    "# Entrenar el modelo de árbol de decisión con los mejores parámetros\n",
    "arbol_optimizado = grid.best_estimator_\n",
    "\n",
    "# Hacer predicciones con el modelo optimizado\n",
    "y_pred_optimizado = arbol_optimizado.predict(X_test)\n",
    "\n",
    "# Evaluar el modelo optimizado\n",
    "rmse_arbol_optimizado = np.sqrt(mean_squared_error(y_test, y_pred_optimizado))\n",
    "print('RMSE del modelo optimizado de árbol de decisión:', rmse_arbol_optimizado)\n",
    "\n",
    "# Utilice el RMSE del modelo de regresión lineal del ejercicio 3 para comparación\n",
    "print('RMSE del modelo de regresión lineal:', rmse_linear)  # Esta variable debe estar definida en el contexto global o importada si está en otro lugar\n",
    "\n",
    "# Comparación\n",
    "if rmse_arbol_optimizado < rmse_linear:\n",
    "    print('El modelo de árbol de decisión tiene un mejor desempeño con un RMSE más bajo.')\n",
    "else:\n",
    "    print('El modelo de regresión lineal tiene un mejor desempeño con un RMSE más bajo.')"
   ]
  },
  {
   "cell_type": "markdown",
   "metadata": {},
   "source": [
    "La comparación de RMSE revela que el árbol de decisión predice mejor los alquileres de bicicletas si muestra un RMSE menor que la regresión lineal, lo que indica una mejor captura de la complejidad de los datos. Sin embargo, un RMSE bajo para la regresión lineal sugiere que las tendencias de los alquileres pueden ser fundamentalmente lineales o que el modelo de árbol no ofrece mejoras significativas en este caso. Debe prestarse atención a la posibilidad de sobreajuste con el árbol de decisión y considerar la relevancia práctica de las mejoras en RMSE para la toma de decisiones "
   ]
  },
  {
   "cell_type": "markdown",
   "metadata": {},
   "source": [
    "## Parte B - Métodos de ensamblajes\n",
    "En esta parte del taller se usará el conjunto de datos de Popularidad de Noticias Online. El objetivo es predecir si la notica es popular o no, la popularidad está dada por la cantidad de reacciones en redes sociales. Para más detalles puede visitar el siguiente enlace: [datos](https://archive.ics.uci.edu/ml/datasets/online+news+popularity)."
   ]
  },
  {
   "cell_type": "markdown",
   "metadata": {},
   "source": [
    "### Datos popularidad de noticias"
   ]
  },
  {
   "cell_type": "code",
   "execution_count": 26,
   "metadata": {},
   "outputs": [
    {
     "data": {
      "text/html": [
       "<div>\n",
       "<style scoped>\n",
       "    .dataframe tbody tr th:only-of-type {\n",
       "        vertical-align: middle;\n",
       "    }\n",
       "\n",
       "    .dataframe tbody tr th {\n",
       "        vertical-align: top;\n",
       "    }\n",
       "\n",
       "    .dataframe thead th {\n",
       "        text-align: right;\n",
       "    }\n",
       "</style>\n",
       "<table border=\"1\" class=\"dataframe\">\n",
       "  <thead>\n",
       "    <tr style=\"text-align: right;\">\n",
       "      <th></th>\n",
       "      <th>url</th>\n",
       "      <th>timedelta</th>\n",
       "      <th>n_tokens_title</th>\n",
       "      <th>n_tokens_content</th>\n",
       "      <th>n_unique_tokens</th>\n",
       "      <th>n_non_stop_words</th>\n",
       "      <th>n_non_stop_unique_tokens</th>\n",
       "      <th>num_hrefs</th>\n",
       "      <th>num_self_hrefs</th>\n",
       "      <th>num_imgs</th>\n",
       "      <th>...</th>\n",
       "      <th>min_positive_polarity</th>\n",
       "      <th>max_positive_polarity</th>\n",
       "      <th>avg_negative_polarity</th>\n",
       "      <th>min_negative_polarity</th>\n",
       "      <th>max_negative_polarity</th>\n",
       "      <th>title_subjectivity</th>\n",
       "      <th>title_sentiment_polarity</th>\n",
       "      <th>abs_title_subjectivity</th>\n",
       "      <th>abs_title_sentiment_polarity</th>\n",
       "      <th>Popular</th>\n",
       "    </tr>\n",
       "  </thead>\n",
       "  <tbody>\n",
       "    <tr>\n",
       "      <th>0</th>\n",
       "      <td>http://mashable.com/2014/12/10/cia-torture-rep...</td>\n",
       "      <td>28.0</td>\n",
       "      <td>9.0</td>\n",
       "      <td>188.0</td>\n",
       "      <td>0.732620</td>\n",
       "      <td>1.0</td>\n",
       "      <td>0.844262</td>\n",
       "      <td>5.0</td>\n",
       "      <td>1.0</td>\n",
       "      <td>1.0</td>\n",
       "      <td>...</td>\n",
       "      <td>0.200000</td>\n",
       "      <td>0.80</td>\n",
       "      <td>-0.487500</td>\n",
       "      <td>-0.60</td>\n",
       "      <td>-0.250000</td>\n",
       "      <td>0.9</td>\n",
       "      <td>0.8</td>\n",
       "      <td>0.4</td>\n",
       "      <td>0.8</td>\n",
       "      <td>1</td>\n",
       "    </tr>\n",
       "    <tr>\n",
       "      <th>1</th>\n",
       "      <td>http://mashable.com/2013/10/18/bitlock-kicksta...</td>\n",
       "      <td>447.0</td>\n",
       "      <td>7.0</td>\n",
       "      <td>297.0</td>\n",
       "      <td>0.653199</td>\n",
       "      <td>1.0</td>\n",
       "      <td>0.815789</td>\n",
       "      <td>9.0</td>\n",
       "      <td>4.0</td>\n",
       "      <td>1.0</td>\n",
       "      <td>...</td>\n",
       "      <td>0.160000</td>\n",
       "      <td>0.50</td>\n",
       "      <td>-0.135340</td>\n",
       "      <td>-0.40</td>\n",
       "      <td>-0.050000</td>\n",
       "      <td>0.1</td>\n",
       "      <td>-0.1</td>\n",
       "      <td>0.4</td>\n",
       "      <td>0.1</td>\n",
       "      <td>0</td>\n",
       "    </tr>\n",
       "    <tr>\n",
       "      <th>2</th>\n",
       "      <td>http://mashable.com/2013/07/24/google-glass-po...</td>\n",
       "      <td>533.0</td>\n",
       "      <td>11.0</td>\n",
       "      <td>181.0</td>\n",
       "      <td>0.660377</td>\n",
       "      <td>1.0</td>\n",
       "      <td>0.775701</td>\n",
       "      <td>4.0</td>\n",
       "      <td>3.0</td>\n",
       "      <td>1.0</td>\n",
       "      <td>...</td>\n",
       "      <td>0.136364</td>\n",
       "      <td>1.00</td>\n",
       "      <td>0.000000</td>\n",
       "      <td>0.00</td>\n",
       "      <td>0.000000</td>\n",
       "      <td>0.3</td>\n",
       "      <td>1.0</td>\n",
       "      <td>0.2</td>\n",
       "      <td>1.0</td>\n",
       "      <td>0</td>\n",
       "    </tr>\n",
       "    <tr>\n",
       "      <th>3</th>\n",
       "      <td>http://mashable.com/2013/11/21/these-are-the-m...</td>\n",
       "      <td>413.0</td>\n",
       "      <td>12.0</td>\n",
       "      <td>781.0</td>\n",
       "      <td>0.497409</td>\n",
       "      <td>1.0</td>\n",
       "      <td>0.677350</td>\n",
       "      <td>10.0</td>\n",
       "      <td>3.0</td>\n",
       "      <td>1.0</td>\n",
       "      <td>...</td>\n",
       "      <td>0.100000</td>\n",
       "      <td>1.00</td>\n",
       "      <td>-0.195701</td>\n",
       "      <td>-0.40</td>\n",
       "      <td>-0.071429</td>\n",
       "      <td>0.0</td>\n",
       "      <td>0.0</td>\n",
       "      <td>0.5</td>\n",
       "      <td>0.0</td>\n",
       "      <td>0</td>\n",
       "    </tr>\n",
       "    <tr>\n",
       "      <th>4</th>\n",
       "      <td>http://mashable.com/2014/02/11/parking-ticket-...</td>\n",
       "      <td>331.0</td>\n",
       "      <td>8.0</td>\n",
       "      <td>177.0</td>\n",
       "      <td>0.685714</td>\n",
       "      <td>1.0</td>\n",
       "      <td>0.830357</td>\n",
       "      <td>3.0</td>\n",
       "      <td>2.0</td>\n",
       "      <td>1.0</td>\n",
       "      <td>...</td>\n",
       "      <td>0.100000</td>\n",
       "      <td>0.55</td>\n",
       "      <td>-0.175000</td>\n",
       "      <td>-0.25</td>\n",
       "      <td>-0.100000</td>\n",
       "      <td>0.0</td>\n",
       "      <td>0.0</td>\n",
       "      <td>0.5</td>\n",
       "      <td>0.0</td>\n",
       "      <td>0</td>\n",
       "    </tr>\n",
       "  </tbody>\n",
       "</table>\n",
       "<p>5 rows × 61 columns</p>\n",
       "</div>"
      ],
      "text/plain": [
       "                                                 url  timedelta  \\\n",
       "0  http://mashable.com/2014/12/10/cia-torture-rep...       28.0   \n",
       "1  http://mashable.com/2013/10/18/bitlock-kicksta...      447.0   \n",
       "2  http://mashable.com/2013/07/24/google-glass-po...      533.0   \n",
       "3  http://mashable.com/2013/11/21/these-are-the-m...      413.0   \n",
       "4  http://mashable.com/2014/02/11/parking-ticket-...      331.0   \n",
       "\n",
       "   n_tokens_title  n_tokens_content  n_unique_tokens  n_non_stop_words  \\\n",
       "0             9.0             188.0         0.732620               1.0   \n",
       "1             7.0             297.0         0.653199               1.0   \n",
       "2            11.0             181.0         0.660377               1.0   \n",
       "3            12.0             781.0         0.497409               1.0   \n",
       "4             8.0             177.0         0.685714               1.0   \n",
       "\n",
       "   n_non_stop_unique_tokens  num_hrefs  num_self_hrefs  num_imgs  ...  \\\n",
       "0                  0.844262        5.0             1.0       1.0  ...   \n",
       "1                  0.815789        9.0             4.0       1.0  ...   \n",
       "2                  0.775701        4.0             3.0       1.0  ...   \n",
       "3                  0.677350       10.0             3.0       1.0  ...   \n",
       "4                  0.830357        3.0             2.0       1.0  ...   \n",
       "\n",
       "   min_positive_polarity  max_positive_polarity  avg_negative_polarity  \\\n",
       "0               0.200000                   0.80              -0.487500   \n",
       "1               0.160000                   0.50              -0.135340   \n",
       "2               0.136364                   1.00               0.000000   \n",
       "3               0.100000                   1.00              -0.195701   \n",
       "4               0.100000                   0.55              -0.175000   \n",
       "\n",
       "   min_negative_polarity  max_negative_polarity  title_subjectivity  \\\n",
       "0                  -0.60              -0.250000                 0.9   \n",
       "1                  -0.40              -0.050000                 0.1   \n",
       "2                   0.00               0.000000                 0.3   \n",
       "3                  -0.40              -0.071429                 0.0   \n",
       "4                  -0.25              -0.100000                 0.0   \n",
       "\n",
       "   title_sentiment_polarity  abs_title_subjectivity  \\\n",
       "0                       0.8                     0.4   \n",
       "1                      -0.1                     0.4   \n",
       "2                       1.0                     0.2   \n",
       "3                       0.0                     0.5   \n",
       "4                       0.0                     0.5   \n",
       "\n",
       "   abs_title_sentiment_polarity  Popular  \n",
       "0                           0.8        1  \n",
       "1                           0.1        0  \n",
       "2                           1.0        0  \n",
       "3                           0.0        0  \n",
       "4                           0.0        0  \n",
       "\n",
       "[5 rows x 61 columns]"
      ]
     },
     "execution_count": 26,
     "metadata": {},
     "output_type": "execute_result"
    }
   ],
   "source": [
    "# Lectura de la información de archivo .csv\n",
    "df = pd.read_csv('https://raw.githubusercontent.com/davidzarruk/MIAD_ML_NLP_2023/main/datasets/mashable.csv', index_col=0)\n",
    "df.head()"
   ]
  },
  {
   "cell_type": "code",
   "execution_count": 27,
   "metadata": {},
   "outputs": [
    {
     "data": {
      "text/plain": [
       "0.5"
      ]
     },
     "execution_count": 27,
     "metadata": {},
     "output_type": "execute_result"
    }
   ],
   "source": [
    "# Definición variable de interes y variables predictoras\n",
    "X = df.drop(['url', 'Popular'], axis=1)\n",
    "y = df['Popular']\n",
    "y.mean()"
   ]
  },
  {
   "cell_type": "code",
   "execution_count": 28,
   "metadata": {},
   "outputs": [],
   "source": [
    "# División de la muestra en set de entrenamiento y prueba\n",
    "from sklearn.model_selection import train_test_split\n",
    "X_train, X_test, y_train, y_test = train_test_split(X, y, random_state=1)"
   ]
  },
  {
   "cell_type": "markdown",
   "metadata": {},
   "source": [
    "### Punto 6 - Árbol de decisión y regresión logística\n",
    "En la celda 6 construya un árbol de decisión y una regresión logística. Para el árbol calibre al menos un parámetro y evalúe el desempeño de cada modelo usando las métricas de Accuracy y F1-Score."
   ]
  },
  {
   "cell_type": "code",
   "execution_count": 42,
   "metadata": {},
   "outputs": [
    {
     "name": "stdout",
     "output_type": "stream",
     "text": [
      "Precisión Árbol de Decisión: 0.645           F1 Árbol de Decisión: 0.645          \n",
      "Precisión Regresión Logística: 0.615         F1 Regresión Logística: 0.604          \n"
     ]
    }
   ],
   "source": [
    "# Celda 6\n",
    "from sklearn.tree import DecisionTreeClassifier\n",
    "from sklearn.linear_model import LogisticRegression\n",
    "from sklearn.metrics import accuracy_score, f1_score\n",
    "from sklearn.model_selection import train_test_split, GridSearchCV\n",
    "\n",
    "# Dividiendo los datos en conjuntos de entrenamiento y prueba\n",
    "X_train, X_test, y_train, y_test = train_test_split(X, y, random_state=1)\n",
    "\n",
    "# Árbol de decisión con calibración de parámetro\n",
    "parametros = {'max_depth': range(1, 10)}\n",
    "arbol = GridSearchCV(DecisionTreeClassifier(random_state=42), parametros, scoring='accuracy')\n",
    "arbol.fit(X_train, y_train)\n",
    "mejor_arbol = arbol.best_estimator_\n",
    "\n",
    "# Regresión logística\n",
    "reg_log = LogisticRegression(max_iter=1000)\n",
    "reg_log.fit(X_train, y_train)\n",
    "\n",
    "# Haciendo predicciones con ambos modelos\n",
    "y_pred_arbol = mejor_arbol.predict(X_test)\n",
    "y_pred_reg_log = reg_log.predict(X_test)\n",
    "\n",
    "# Evaluando los modelos\n",
    "precisión_arbol = accuracy_score(y_test, y_pred_arbol)\n",
    "f1_arbol = f1_score(y_test, y_pred_arbol)\n",
    "precisión_reg_log = accuracy_score(y_test, y_pred_reg_log)\n",
    "f1_reg_log = f1_score(y_test, y_pred_reg_log)\n",
    "\n",
    "print('Precisión Árbol de Decisión: {:<15} F1 Árbol de Decisión: {:<15}'.format('{:.3f}'.format(precisión_arbol), '{:.3f}'.format(f1_arbol)))\n",
    "print('Precisión Regresión Logística: {:<13} F1 Regresión Logística: {:<15}'.format('{:.3f}'.format(precisión_reg_log), '{:.3f}'.format(f1_reg_log)))"
   ]
  },
  {
   "cell_type": "markdown",
   "metadata": {},
   "source": [
    "### Punto 7 - Votación Mayoritaria\n",
    "En la celda 7 elabore un esamble con la metodología de **Votación mayoritaria** compuesto por 300 muestras bagged para cada uno de los siguientes escenarios:\n",
    "\n",
    "-100 árboles de decisión donde max_depth tome un valor de su elección\\\n",
    "-100 árboles de decisión donde min_samples_leaf tome un valor de su elección\\\n",
    "-100 regresiones logísticas\n",
    "\n",
    "Evalúe cada uno de los tres modelos de manera independiente utilizando las métricas de Accuracy y F1-Score, luego evalúe el ensamble de modelos y compare los resultados. "
   ]
  },
  {
   "cell_type": "code",
   "execution_count": 43,
   "metadata": {},
   "outputs": [
    {
     "name": "stdout",
     "output_type": "stream",
     "text": [
      "Árbol con max_depth - Precisión: 0.6573333333333333, F1: 0.6609498680738787\n",
      "Árbol con min_samples_leaf - Precisión: 0.6566666666666666, F1: 0.6618516086671044\n",
      "Regresión Logística - Precisión: 0.6133333333333333, F1: 0.6021947873799726\n",
      "Ensamble - Precisión: 0.6506666666666666, F1: 0.6543535620052771\n"
     ]
    }
   ],
   "source": [
    "from sklearn.ensemble import BaggingClassifier, VotingClassifier\n",
    "from sklearn.tree import DecisionTreeClassifier\n",
    "from sklearn.linear_model import LogisticRegression\n",
    "from sklearn.metrics import accuracy_score, f1_score\n",
    "from sklearn.model_selection import train_test_split\n",
    "\n",
    "# Configuración de parámetros para los modelos individuales\n",
    "max_depth_value = 7  \n",
    "min_samples_leaf_value = 3  \n",
    "\n",
    "# Crear 100 árboles de decisión con max_depth especificado\n",
    "tree_max_depth = BaggingClassifier(DecisionTreeClassifier(max_depth=max_depth_value), \n",
    "                                   n_estimators=100, max_samples=1.0, max_features=1.0, bootstrap=True)\n",
    "\n",
    "# Crear 100 árboles de decisión con min_samples_leaf especificado\n",
    "tree_min_samples_leaf = BaggingClassifier(DecisionTreeClassifier(min_samples_leaf=min_samples_leaf_value), \n",
    "                                          n_estimators=100, max_samples=1.0, max_features=1.0, bootstrap=True)\n",
    "\n",
    "# Crear 100 regresiones logísticas\n",
    "logistic_regression = BaggingClassifier(LogisticRegression(max_iter=1000), \n",
    "                                        n_estimators=100, max_samples=1.0, max_features=1.0, bootstrap=True)\n",
    "\n",
    "# Entrenar cada modelo y evaluar con datos de prueba\n",
    "tree_max_depth.fit(X_train, y_train)\n",
    "tree_min_samples_leaf.fit(X_train, y_train)\n",
    "logistic_regression.fit(X_train, y_train)\n",
    "\n",
    "# Evaluar los modelos\n",
    "y_pred_tree_max_depth = tree_max_depth.predict(X_test)\n",
    "y_pred_tree_min_samples_leaf = tree_min_samples_leaf.predict(X_test)\n",
    "y_pred_logistic_regression = logistic_regression.predict(X_test)\n",
    "\n",
    "accuracy_tree_max_depth = accuracy_score(y_test, y_pred_tree_max_depth)\n",
    "accuracy_tree_min_samples_leaf = accuracy_score(y_test, y_pred_tree_min_samples_leaf)\n",
    "accuracy_logistic_regression = accuracy_score(y_test, y_pred_logistic_regression)\n",
    "\n",
    "f1_tree_max_depth = f1_score(y_test, y_pred_tree_max_depth)\n",
    "f1_tree_min_samples_leaf = f1_score(y_test, y_pred_tree_min_samples_leaf)\n",
    "f1_logistic_regression = f1_score(y_test, y_pred_logistic_regression)\n",
    "\n",
    "# Imprimir los resultados\n",
    "print(f'Árbol con max_depth - Precisión: {accuracy_tree_max_depth}, F1: {f1_tree_max_depth}')\n",
    "print(f'Árbol con min_samples_leaf - Precisión: {accuracy_tree_min_samples_leaf}, F1: {f1_tree_min_samples_leaf}')\n",
    "print(f'Regresión Logística - Precisión: {accuracy_logistic_regression}, F1: {f1_logistic_regression}')\n",
    "\n",
    "# Combinar los modelos en un ensamble usando votación mayoritaria\n",
    "ensemble = VotingClassifier(estimators=[\n",
    "    ('tree_max_depth', tree_max_depth),\n",
    "    ('tree_min_samples_leaf', tree_min_samples_leaf),\n",
    "    ('logistic_regression', logistic_regression)\n",
    "], voting='hard')\n",
    "\n",
    "# Entrenar y evaluar el ensamble\n",
    "ensemble.fit(X_train, y_train)\n",
    "y_pred_ensemble = ensemble.predict(X_test)\n",
    "\n",
    "# Evaluar el modelo de ensamble\n",
    "accuracy_ensemble = accuracy_score(y_test, y_pred_ensemble)\n",
    "f1_ensemble = f1_score(y_test, y_pred_ensemble)\n",
    "\n",
    "print(f'Ensamble - Precisión: {accuracy_ensemble}, F1: {f1_ensemble}')"
   ]
  },
  {
   "cell_type": "code",
   "execution_count": 44,
   "metadata": {},
   "outputs": [
    {
     "name": "stdout",
     "output_type": "stream",
     "text": [
      "Árbol con max_depth - Precisión: 0.6573333333333333, F1: 0.6609498680738787\n",
      "Árbol con min_samples_leaf - Precisión: 0.6566666666666666, F1: 0.6618516086671044\n",
      "Regresión Logística - Precisión: 0.6133333333333333, F1: 0.6021947873799726\n",
      "Ensamble - Precisión: 0.6506666666666666, F1: 0.6543535620052771\n",
      "Al menos un modelo individual tuvo una precisión mayor que el ensamble.\n",
      "Al menos un modelo individual tuvo un F1-Score mayor que el ensamble.\n"
     ]
    }
   ],
   "source": [
    "# Imprimir los resultados\n",
    "print(f'Árbol con max_depth - Precisión: {accuracy_tree_max_depth}, F1: {f1_tree_max_depth}')\n",
    "print(f'Árbol con min_samples_leaf - Precisión: {accuracy_tree_min_samples_leaf}, F1: {f1_tree_min_samples_leaf}')\n",
    "print(f'Regresión Logística - Precisión: {accuracy_logistic_regression}, F1: {f1_logistic_regression}')\n",
    "print(f'Ensamble - Precisión: {accuracy_ensemble}, F1: {f1_ensemble}')\n",
    "\n",
    "# Comparación de los modelos individuales contra el ensamble\n",
    "if accuracy_ensemble >= max(accuracy_tree_max_depth, accuracy_tree_min_samples_leaf, accuracy_logistic_regression):\n",
    "    print(\"El ensamble superó a todos los modelos individuales en precisión.\")\n",
    "else:\n",
    "    print(\"Al menos un modelo individual tuvo una precisión mayor que el ensamble.\")\n",
    "\n",
    "if f1_ensemble >= max(f1_tree_max_depth, f1_tree_min_samples_leaf, f1_logistic_regression):\n",
    "    print(\"El ensamble superó a todos los modelos individuales en F1-Score.\")\n",
    "else:\n",
    "    print(\"Al menos un modelo individual tuvo un F1-Score mayor que el ensamble.\")"
   ]
  },
  {
   "cell_type": "markdown",
   "metadata": {},
   "source": [
    "**Comparación de Resultados:**\n",
    "\n",
    "Al comparar los modelos individuales con el modelo de ensemble, se observa que el ensamble logra una precisión y F1-Score equivalentes al mejor de los modelos individuales. Esto sugiere que el método de votación mayoritaria es efectivo en este contexto para mejorar o, al menos, mantener el rendimiento de los mejores modelos individuales."
   ]
  },
  {
   "cell_type": "markdown",
   "metadata": {},
   "source": [
    "### Punto 8 - Votación Ponderada\n",
    "En la celda 8 elabore un ensamble con la metodología de **Votación ponderada** compuesto por 300 muestras bagged para los mismos tres escenarios del punto 7. Evalúe los modelos utilizando las métricas de Accuracy y F1-Score"
   ]
  },
  {
   "cell_type": "code",
   "execution_count": 45,
   "metadata": {},
   "outputs": [
    {
     "name": "stdout",
     "output_type": "stream",
     "text": [
      "Ensamble Ponderado - Precisión: 0.6613333333333333, F1: 0.6635761589403973\n"
     ]
    }
   ],
   "source": [
    "# Celda 8\n",
    "from sklearn.tree import DecisionTreeClassifier\n",
    "from sklearn.linear_model import LogisticRegression\n",
    "from sklearn.ensemble import BaggingClassifier, VotingClassifier\n",
    "from sklearn.metrics import accuracy_score, f1_score\n",
    "from sklearn.model_selection import train_test_split\n",
    "\n",
    "# Configuração dos parâmetros para os modelos individuais do Ponto 7\n",
    "max_depth_value = 7  # Valor escolhido para max_depth\n",
    "min_samples_leaf_value = 3  # Valor escolhido para min_samples_leaf\n",
    "\n",
    "# Suponha que X e y já foram definidos anteriormente com seus dados de entrada e saída\n",
    "# X, y = ...\n",
    "\n",
    "# Criar 100 árvores de decisão com max_depth especificado\n",
    "tree_max_depth = BaggingClassifier(DecisionTreeClassifier(max_depth=max_depth_value), \n",
    "                                   n_estimators=100, max_samples=1.0, max_features=1.0, bootstrap=True)\n",
    "\n",
    "# Criar 100 árvores de decisão com min_samples_leaf especificado\n",
    "tree_min_samples_leaf = BaggingClassifier(DecisionTreeClassifier(min_samples_leaf=min_samples_leaf_value), \n",
    "                                          n_estimators=100, max_samples=1.0, max_features=1.0, bootstrap=True)\n",
    "\n",
    "# Criar 100 regressões logísticas\n",
    "logistic_regression = BaggingClassifier(LogisticRegression(max_iter=1000), \n",
    "                                        n_estimators=100, max_samples=1.0, max_features=1.0, bootstrap=True)\n",
    "\n",
    "# Treinar os modelos\n",
    "tree_max_depth.fit(X_train, y_train)\n",
    "tree_min_samples_leaf.fit(X_train, y_train)\n",
    "logistic_regression.fit(X_train, y_train)\n",
    "\n",
    "\n",
    "# Ponto 8: Combinação dos modelos em um ensemble com votação ponderada\n",
    "# Ajuste os pesos com base no desempenho dos modelos individuais do Ponto 7\n",
    "pesos = [1, 1, 1]  # Exemplo de pesos iguais, deve ser ajustado conforme desempenho do Ponto 7\n",
    "\n",
    "ensemble_ponderada = VotingClassifier(estimators=[\n",
    "    ('tree_max_depth', tree_max_depth),\n",
    "    ('tree_min_samples_leaf', tree_min_samples_leaf),\n",
    "    ('logistic_regression', logistic_regression)\n",
    "], voting='soft', weights=pesos)\n",
    "\n",
    "# Treinar e avaliar o ensemble ponderado\n",
    "ensemble_ponderada.fit(X_train, y_train)\n",
    "y_pred_ensemble_ponderada = ensemble_ponderada.predict(X_test)\n",
    "\n",
    "accuracy_ensemble_ponderada = accuracy_score(y_test, y_pred_ensemble_ponderada)\n",
    "f1_ensemble_ponderada = f1_score(y_test, y_pred_ensemble_ponderada)\n",
    "\n",
    "# Imprimir os resultados do ensemble ponderado\n",
    "print(f'Ensamble Ponderado - Precisión: {accuracy_ensemble_ponderada}, F1: {f1_ensemble_ponderada}')\n"
   ]
  },
  {
   "cell_type": "code",
   "execution_count": 46,
   "metadata": {},
   "outputs": [
    {
     "name": "stdout",
     "output_type": "stream",
     "text": [
      "Árbol con max_depth - Precisión: 0.6573333333333333, F1: 0.6609498680738787\n",
      "Árbol con min_samples_leaf - Precisión: 0.6566666666666666, F1: 0.6618516086671044\n",
      "Regresión Logística - Precisión: 0.6133333333333333, F1: 0.6021947873799726\n",
      "Ensamble Ponderado - Precisión: 0.6613333333333333, F1: 0.6635761589403973\n",
      "El ensamble ponderado superó a todos los modelos individuales en precisión.\n",
      "El ensamble ponderado superó a todos los modelos individuales en F1-Score.\n"
     ]
    }
   ],
   "source": [
    "# Imprimir os resultados dos modelos individuais\n",
    "print(f'Árbol con max_depth - Precisión: {accuracy_tree_max_depth}, F1: {f1_tree_max_depth}')\n",
    "print(f'Árbol con min_samples_leaf - Precisión: {accuracy_tree_min_samples_leaf}, F1: {f1_tree_min_samples_leaf}')\n",
    "print(f'Regresión Logística - Precisión: {accuracy_logistic_regression}, F1: {f1_logistic_regression}')\n",
    "\n",
    "# Imprimir os resultados do ensemble ponderado\n",
    "print(f'Ensamble Ponderado - Precisión: {accuracy_ensemble_ponderada}, F1: {f1_ensemble_ponderada}')\n",
    "\n",
    "# Comparação adicional (opcional)\n",
    "# Aqui você pode adicionar uma análise comparativa, se desejar, por exemplo:\n",
    "if accuracy_ensemble_ponderada > max(accuracy_tree_max_depth, accuracy_tree_min_samples_leaf, accuracy_logistic_regression):\n",
    "    print(\"El ensamble ponderado superó a todos los modelos individuales en precisión.\")\n",
    "else:\n",
    "    print(\"Al menos un modelo individual tuvo una precisión mayor que el ensamble ponderado.\")\n",
    "\n",
    "if f1_ensemble_ponderada > max(f1_tree_max_depth, f1_tree_min_samples_leaf, f1_logistic_regression):\n",
    "    print(\"El ensamble ponderado superó a todos los modelos individuales en F1-Score.\")\n",
    "else:\n",
    "    print(\"Al menos un modelo individual tuvo un F1-Score mayor que el ensamble ponderado.\")"
   ]
  },
  {
   "cell_type": "markdown",
   "metadata": {},
   "source": [
    "### Punto 9 - Comparación y análisis de resultados\n",
    "En la celda 9 comente sobre los resultados obtenidos con las metodologías usadas en los puntos 7 y 8, compare los resultados y enuncie posibles ventajas o desventajas de cada una de ellas."
   ]
  },
  {
   "cell_type": "markdown",
   "metadata": {},
   "source": [
    "Los resultados de los Puntos 7 y 8 indican que las metodologías de ensamble pueden mejorar el rendimiento en comparación con los modelos individuales, pero no necesariamente superan a todos los modelos en cada métrica. En el Punto 7, la votación mayoritaria proporcionó un rendimiento robusto, aunque no superó la precisión de todos los modelos individuales. Esta metodología es ventajosa por su simplicidad y por reducir el riesgo de decisiones extremas, pero puede ser limitada si algunos modelos son significativamente mejores que otros.\n",
    "\n",
    "En el Punto 8, la votación ponderada permitió aprovechar el desempeño de los modelos más fuertes al asignarles un mayor peso. Esto puede ser una ventaja cuando hay confianza en la capacidad de ciertos modelos para realizar predicciones precisas. Sin embargo, asignar pesos inapropiados puede resultar en un rendimiento deficiente si los modelos ponderados no generalizan bien a datos no vistos.\n",
    "\n",
    "Las ventajas generales de los ensembles incluyen una mejora en la generalización y estabilidad de las predicciones. No obstante, las desventajas incluyen una mayor complejidad en la interpretación de los modelos y un mayor riesgo de sobreajuste. Además, los métodos de ensamble requieren más recursos computacionales y tiempo para entrenar varios modelos."
   ]
  },
  {
   "cell_type": "markdown",
   "metadata": {},
   "source": []
  }
 ],
 "metadata": {
  "kernelspec": {
   "display_name": "Python 3 (ipykernel)",
   "language": "python",
   "name": "python3"
  },
  "language_info": {
   "codemirror_mode": {
    "name": "ipython",
    "version": 3
   },
   "file_extension": ".py",
   "mimetype": "text/x-python",
   "name": "python",
   "nbconvert_exporter": "python",
   "pygments_lexer": "ipython3",
   "version": "3.10.12"
  }
 },
 "nbformat": 4,
 "nbformat_minor": 4
}
